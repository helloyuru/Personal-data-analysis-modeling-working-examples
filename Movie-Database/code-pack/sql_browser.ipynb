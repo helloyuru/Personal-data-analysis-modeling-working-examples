{
 "cells": [
  {
   "cell_type": "markdown",
   "metadata": {},
   "source": [
    "# import package and connect to DB"
   ]
  },
  {
   "cell_type": "code",
   "execution_count": 1,
   "metadata": {},
   "outputs": [],
   "source": [
    "import pymysql"
   ]
  },
  {
   "cell_type": "code",
   "execution_count": 3,
   "metadata": {},
   "outputs": [],
   "source": [
    "db = pymysql.connect(\"localhost\",\"root\",\"password\",\"movie_project\")\n",
    "#my sql password is also password of my other personal account\n",
    "#so in the report I change the real password into 'password'\n",
    "#if you want to see the running result, please check the report or html file"
   ]
  },
  {
   "cell_type": "code",
   "execution_count": 4,
   "metadata": {},
   "outputs": [],
   "source": [
    "c = db.cursor()"
   ]
  },
  {
   "cell_type": "code",
   "execution_count": 7,
   "metadata": {},
   "outputs": [
    {
     "data": {
      "text/plain": [
       "21"
      ]
     },
     "execution_count": 7,
     "metadata": {},
     "output_type": "execute_result"
    }
   ],
   "source": [
    "c.execute(\"\"\"SELECT title FROM new_movie\"\"\")"
   ]
  },
  {
   "cell_type": "markdown",
   "metadata": {},
   "source": [
    "# set sql functions"
   ]
  },
  {
   "cell_type": "code",
   "execution_count": 8,
   "metadata": {},
   "outputs": [],
   "source": [
    "recommend=\"\"\"SELECT new_movie.title FROM new_movie,genre_recommend,old_movie_final WHERE new_movie.new_movie_id=genre_recommend.new_movie_id AND genre_recommend.genre_id=old_movie_final.genre_id AND old_movie_final.movie_title LIKE %s \"\"\""
   ]
  },
  {
   "cell_type": "code",
   "execution_count": 42,
   "metadata": {},
   "outputs": [],
   "source": [
    "ins=\"\"\"SELECT context FROM ins_post,movie_junc_ins,new_movie WHERE new_movie.new_movie_id=movie_junc_ins.new_movie_id AND movie_junc_ins.post_id=ins_post.post_id AND new_movie.title LIKE %s\"\"\""
   ]
  },
  {
   "cell_type": "code",
   "execution_count": 53,
   "metadata": {},
   "outputs": [],
   "source": [
    "twi=\"\"\"SELECT news_tweet FROM news_trend,movie_junc_twi,new_movie WHERE new_movie.new_movie_id=movie_junc_twi.new_movie_id AND movie_junc_twi.news_id=news_trend.news_id AND new_movie.title LIKE %s\"\"\""
   ]
  },
  {
   "cell_type": "markdown",
   "metadata": {},
   "source": [
    "# set browser interface"
   ]
  },
  {
   "cell_type": "code",
   "execution_count": 56,
   "metadata": {},
   "outputs": [],
   "source": [
    "def browser():\n",
    "    a = input('Please input a Movie you love :') \n",
    "    c.execute(recommend,a+' ')\n",
    "    for row in c.fetchall():\n",
    "        emm=''.join(row)\n",
    "        print(emm)\n",
    "        c.execute(ins,emm)\n",
    "        print('                                                     ')\n",
    "        print('---------------------Ins Comments--------------------')\n",
    "        for row in c.fetchall():\n",
    "            print(row)\n",
    "        c.execute(twi,emm)\n",
    "        print('                                                     ')\n",
    "        print('---------------------Twitter News--------------------')\n",
    "        for row in c.fetchall():\n",
    "            print(row)\n"
   ]
  },
  {
   "cell_type": "markdown",
   "metadata": {},
   "source": [
    "# Run"
   ]
  },
  {
   "cell_type": "code",
   "execution_count": 59,
   "metadata": {},
   "outputs": [
    {
     "name": "stdout",
     "output_type": "stream",
     "text": [
      "Please input a Movie you love :Sunshine\n",
      "Captain Marvel \n",
      "                                                     \n",
      "---------------------Ins Comments--------------------\n",
      "('#shazam was a fantastic watch!  Really enjoyed the clever writing that doesn’t undermine an audiences knowledge of devices and tropes! Did this piece for SDCC and has more relevance today then when it was done a couple years back! GO SEE #captainmarvel ERRRRE #shazam',)\n",
      "('\\u202aAt long last we have not one but THREE #movie reviews on the #podcast today, as I am joined by @ThyKingdomKam to discuss #CaptainMarvel, #UsMovie, and #Shazam. #Marvel #DC and #horror all come together in this episode, link in bio or your fav #podcasting platform.\\n.\\n.\\n#podernfamily \\u202c#avengers #justiceleague #mcu #dceu #marvelcomics #dccomics #love #video #gif #audio #geek #nerd',)\n",
      "('New vlog is up !\\nLink in bio ✨\\n#youtube #youtuber #smallyoutuber #vlog #vlogger #couplevideos #couplevlog #captainmarvel #moviedate #carridechronicles #carride #daywithmyboyfriend #promoter #subscribe #sub4sub #like #comment #share',)\n",
      "('⭐️🌟⭐️\\nW A R R I O R.\\n#captainmarvel #funkopop #marvel #avengers',)\n",
      "('Part 2\\n7. Daredevil #25 [2013] \\n8. All-New Ultimates #3 [2014]\\n9. Shadowman #8 [2013]\\n10. The Punisher War Journal #80 [1995]\\n11. Sub-Mariner #57 [1973]\\n12. Captain Marvel #1 [1968]\\n\\n#marvel #comics #dc #dccomics #valiant #shadowman #issue #read #captainmarvel #60s #70s #marvelnow #ultimates #daredevil #mattmurdock #punisher #warjournal #frankcastle #namor #submariner',)\n",
      "('#shazam was a fantastic watch!  Really enjoyed the clever writing that doesn’t undermine an audiences knowledge of devices and tropes! Did this piece for SDCC and has more relevance today then when it was done a couple years back! GO SEE #captainmarvel ERRRRE #shazam',)\n",
      "('The End Game Sound Track |*Wich is your favorite #hero? Comment bellow and listen a fragment of the soundtrack and rise the hype with the animation of Rocket the Racoon. Repost on your profile and support me making mention of my account.👍 *¿Cuál es tu héroe favorito? Coméntanos y escucha un fragmento de la banda sonora y aumenta la fiebre con la animación de Rocket El Mapache. Repostea en tu perfil y dame los créditos mencionando mi cuenta. 👍 \\n#AvengeTheFallen #Avengers #April26 #EndGame #BlackWidow #IronMan #CaptainAmerica #Hulk #AntMan #StarLord #Thor #IronPatriot #CaptainMarvel #Gamorra #Thor #CountDown #Style #Happy #FollowxFollow #TagsForLikes #FollowMe #Webstagram #InstaFollow #Photo #InstaLove #Design #Cute #SoundTrack #TheAvengers #RocketTheRacoon',)\n",
      "                                                     \n",
      "---------------------Twitter News--------------------\n",
      "('Q1: What was the first #Marvel movie you saw at AMC Theatres? #AMCWTC ',)\n",
      "('Q2: Who is your favorite #Marvel character and why? (reply with a gif) #AMCWTC ',)\n",
      "('Q3: If you could bring back one #Marvel character who would it be? #AMCWTC https://t.co/wXi9WpNmM7 ',)\n",
      "(\"#CaptainMarvel's post-credit scene. Are you ready for #AvengersEndgame?https://t.co/ONm1baMpwM \",)\n",
      "(\"The best appearance of #CaptainAmerica: ‘Captain America: The Winter Soldier.’ It is one of the grittiest #Marvel films – showing Cap's controversial war against corruption in SHIELD| all while fighting his own brainwashed best friend in the process https://t.co/l0DnphIW0s https://t.co/WUFNe6OGJD \",)\n",
      "(\"#CaptainMarvel's arrival to #Endgame ||https://t.co/wxcCjMqqmJ \",)\n",
      "(\"#CaptainMarvel's post-credit scene. Are you ready for #AvengersEndgame?https://t.co/ONm1baMpwM \",)\n",
      "(\"#CaptainMarvel's arrival to #Endgame ||https://t.co/wxcCjMqqmJ \",)\n",
      "('Grab a #Marvel Studios’ @Avengers: Endgame collectible tin with our perfectly popped popcorn for $11.99 + tax. ||*At participating theatres.* https://t.co/VpEaw0mnkt ',)\n",
      "('Q1: What was the first #Marvel movie you saw at AMC Theatres? #AMCWTC ',)\n",
      "('Q2: Who is your favorite #Marvel character and why? (reply with a gif) #AMCWTC ',)\n",
      "('Q3: If you could bring back one #Marvel character who would it be? #AMCWTC https://t.co/wXi9WpNmM7 ',)\n",
      "(\"Whether it's a Thor vs. Hulk gladiator fight or an airport battle| #Marvel has some of the coolest fights scenes in film history. 👊 Check out some of our favorites: https://t.co/IGbNF9ocwN https://t.co/BuCOeKaYZX \",)\n",
      "(\"The best appearance of #CaptainAmerica: ‘Captain America: The Winter Soldier.’ It is one of the grittiest #Marvel films – showing Cap's controversial war against corruption in SHIELD| all while fighting his own brainwashed best friend in the process https://t.co/l0DnphIW0s https://t.co/WUFNe6OGJD \",)\n"
     ]
    }
   ],
   "source": [
    "browser()"
   ]
  },
  {
   "cell_type": "code",
   "execution_count": null,
   "metadata": {},
   "outputs": [],
   "source": []
  }
 ],
 "metadata": {
  "kernelspec": {
   "display_name": "Python 3",
   "language": "python",
   "name": "python3"
  },
  "language_info": {
   "codemirror_mode": {
    "name": "ipython",
    "version": 3
   },
   "file_extension": ".py",
   "mimetype": "text/x-python",
   "name": "python",
   "nbconvert_exporter": "python",
   "pygments_lexer": "ipython3",
   "version": "3.7.1"
  }
 },
 "nbformat": 4,
 "nbformat_minor": 2
}
