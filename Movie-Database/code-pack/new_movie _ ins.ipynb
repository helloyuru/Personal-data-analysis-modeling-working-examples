{
 "cells": [
  {
   "cell_type": "markdown",
   "metadata": {},
   "source": [
    "# Import tools"
   ]
  },
  {
   "cell_type": "code",
   "execution_count": 3,
   "metadata": {},
   "outputs": [],
   "source": [
    "from bs4 import BeautifulSoup as soup\n",
    "from urllib.request import urlopen as uReq"
   ]
  },
  {
   "cell_type": "markdown",
   "metadata": {},
   "source": [
    "# Read page"
   ]
  },
  {
   "cell_type": "code",
   "execution_count": 4,
   "metadata": {},
   "outputs": [],
   "source": [
    "my_url = 'https://www.imdb.com/movies-in-theaters/?ref_=cs_inth'\n",
    "uClient = uReq( my_url )\n",
    "page_html = uClient.read()\n",
    "uClient.close()"
   ]
  },
  {
   "cell_type": "code",
   "execution_count": 5,
   "metadata": {},
   "outputs": [],
   "source": [
    "page_soup = soup(page_html,\"html.parser\")"
   ]
  },
  {
   "cell_type": "code",
   "execution_count": 7,
   "metadata": {},
   "outputs": [],
   "source": [
    "a = page_soup.body.findAll(\"div\",{\"class\":\"list_item even\"})\n"
   ]
  },
  {
   "cell_type": "code",
   "execution_count": 8,
   "metadata": {},
   "outputs": [],
   "source": [
    "b = page_soup.body.findAll(\"div\",{\"class\":\"list_item odd\"})"
   ]
  },
  {
   "cell_type": "code",
   "execution_count": 9,
   "metadata": {},
   "outputs": [
    {
     "data": {
      "text/plain": [
       "<div class=\"list_item even\" itemscope=\"\" itemtype=\"http://schema.org/Movie\">\n",
       "<table border=\"0\" cellpadding=\"0\" cellspacing=\"0\" class=\"nm-title-overview-widget-layout\">\n",
       "<tbody>\n",
       "<tr>\n",
       "<td id=\"img_primary\" rowspan=\"2\" valign=\"top\">\n",
       "<div class=\"image\">\n",
       "<a href=\"/title/tt8080302/\"> <div class=\"hover-over-image zero-z-index\">\n",
       "<img alt=\"Penguins (2019) Poster\" class=\"poster shadowed\" height=\"209\" src=\"https://m.media-amazon.com/images/M/MV5BMjA4NDc2Njc3MV5BMl5BanBnXkFtZTgwMTcyNTAwNzM@._V1_UY209_CR0,0,140,209_AL_.jpg\" title=\"Penguins (2019)\" width=\"140\"/>\n",
       "</div>\n",
       "</a> </div>\n",
       "</td>\n",
       "<td class=\"overview-top\">\n",
       "<h4><a href=\"/title/tt8080302/\" title=\"Penguins (2019)\"> Penguins (2019)</a><span> - [Opens Apr. 17]</span></h4>\n",
       "<p class=\"cert-runtime-genre\">\n",
       "<img alt=\"Certificate G\" class=\"absmiddle certimage\" src=\"https://m.media-amazon.com/images/G/01/imdb/images/certificates/us/g-1826671973._CB483414254_.png\" title=\"G\"/>\n",
       "<time datetime=\"PT76M\">76 min</time>\n",
       "                                  -  \n",
       "                                <span>Documentary</span>\n",
       "</p>\n",
       "<div class=\"rating_txt\">\n",
       "<span class=\"metascore favorable\">66        </span>\n",
       "        Metascore\n",
       "                        </div>\n",
       "<div class=\"outline\">\n",
       "    The story of Steve, an Adélie penguin, on a quest to find a life partner and start a family. When Steve meets with Wuzzo the emperor penguin they become friends. But nothing comes easy in the icy Antarctic.                    </div>\n",
       "<div class=\"txt-block\">\n",
       "<h5 class=\"inline\">Directors:</h5>\n",
       "<span>\n",
       "<a href=\"/name/nm0288144/\">Alastair Fothergill</a> </span>\n",
       "<span class=\"ghost\">|</span>\n",
       "<span>\n",
       "<a href=\"/name/nm2613148/\">Jeff Wilson</a> </span>\n",
       "</div>\n",
       "<div class=\"txt-block\">\n",
       "<h5 class=\"inline\">Stars:</h5>\n",
       "<a href=\"/name/nm1159180/\">Ed Helms</a>\n",
       "</div>\n",
       "</td>\n",
       "</tr>\n",
       "<tr>\n",
       "<td class=\"overview-bottom\">\n",
       "<script>\n",
       "    if (typeof uet == 'function') {\n",
       "      uet(\"bb\", \"SmallTrailerWidget\", {wb: 1});\n",
       "    }\n",
       "</script>\n",
       "<a class=\"btn2 btn2_simple small title-trailer video-modal\" data-context=\"imdb\" data-video=\"vi661633049\" href=\"/video/imdb/vi661633049\" itemprop=\"trailer\"> Watch Trailer\n",
       "</a><script>\n",
       "    if (typeof uet == 'function') {\n",
       "      uet(\"be\", \"SmallTrailerWidget\", {wb: 1});\n",
       "    }\n",
       "</script>\n",
       "<script>\n",
       "    if (typeof uex == 'function') {\n",
       "      uex(\"ld\", \"SmallTrailerWidget\", {wb: 1});\n",
       "    }\n",
       "</script>\n",
       "<span class=\"wlb_wrapper\">\n",
       "<a class=\"wlb_watchlist_lite\" data-caller-name=\"Title\" data-size=\"small\" data-tconst=\"tt8080302\">\n",
       "</a>\n",
       "</span>\n",
       "<a class=\"btn2 btn2_simple small\" href=\"/showtimes/title/tt8080302/\"> Get Tickets</a>\n",
       "</td>\n",
       "</tr>\n",
       "</tbody>\n",
       "</table>\n",
       "</div>"
      ]
     },
     "execution_count": 9,
     "metadata": {},
     "output_type": "execute_result"
    }
   ],
   "source": [
    "eg=a[0]\n",
    "eg"
   ]
  },
  {
   "cell_type": "markdown",
   "metadata": {},
   "source": [
    "## title"
   ]
  },
  {
   "cell_type": "code",
   "execution_count": 10,
   "metadata": {},
   "outputs": [
    {
     "data": {
      "text/plain": [
       "'Penguins (2019)'"
      ]
     },
     "execution_count": 10,
     "metadata": {},
     "output_type": "execute_result"
    }
   ],
   "source": [
    "eg.tbody.h4.a.text.strip()"
   ]
  },
  {
   "cell_type": "markdown",
   "metadata": {},
   "source": [
    "## time"
   ]
  },
  {
   "cell_type": "code",
   "execution_count": 11,
   "metadata": {},
   "outputs": [
    {
     "data": {
      "text/plain": [
       "'76 min'"
      ]
     },
     "execution_count": 11,
     "metadata": {},
     "output_type": "execute_result"
    }
   ],
   "source": [
    "eg.tbody.p.time.text"
   ]
  },
  {
   "cell_type": "markdown",
   "metadata": {},
   "source": [
    "## genre"
   ]
  },
  {
   "cell_type": "code",
   "execution_count": 12,
   "metadata": {},
   "outputs": [
    {
     "data": {
      "text/plain": [
       "1"
      ]
     },
     "execution_count": 12,
     "metadata": {},
     "output_type": "execute_result"
    }
   ],
   "source": [
    "genre1 = eg.tbody.p.findAll(\"span\")\n",
    "l1=len(genre1)\n",
    "l1"
   ]
  },
  {
   "cell_type": "code",
   "execution_count": 13,
   "metadata": {},
   "outputs": [],
   "source": [
    "i=0\n",
    "genre=''\n",
    "while i<l1:\n",
    "    genre+=str(genre1[i].text.strip())\n",
    "    if i==l1:\n",
    "        break\n",
    "    i+=1"
   ]
  },
  {
   "cell_type": "code",
   "execution_count": 14,
   "metadata": {},
   "outputs": [
    {
     "data": {
      "text/plain": [
       "'Documentary'"
      ]
     },
     "execution_count": 14,
     "metadata": {},
     "output_type": "execute_result"
    }
   ],
   "source": [
    "genre"
   ]
  },
  {
   "cell_type": "markdown",
   "metadata": {},
   "source": [
    "## outline"
   ]
  },
  {
   "cell_type": "code",
   "execution_count": 15,
   "metadata": {},
   "outputs": [
    {
     "data": {
      "text/plain": [
       "'The story of Steve, an Adélie penguin, on a quest to find a life partner and start a family. When Steve meets with Wuzzo the emperor penguin they become friends. But nothing comes easy in the icy Antarctic.'"
      ]
     },
     "execution_count": 15,
     "metadata": {},
     "output_type": "execute_result"
    }
   ],
   "source": [
    "eg.tbody.find('div',{\"class\":\"outline\"}).text.strip()"
   ]
  },
  {
   "cell_type": "markdown",
   "metadata": {},
   "source": [
    "## director"
   ]
  },
  {
   "cell_type": "code",
   "execution_count": 16,
   "metadata": {},
   "outputs": [],
   "source": [
    "people = eg.tbody.findAll('div',{'class':'txt-block'})"
   ]
  },
  {
   "cell_type": "code",
   "execution_count": 17,
   "metadata": {},
   "outputs": [
    {
     "data": {
      "text/plain": [
       "<div class=\"txt-block\">\n",
       "<h5 class=\"inline\">Directors:</h5>\n",
       "<span>\n",
       "<a href=\"/name/nm0288144/\">Alastair Fothergill</a> </span>\n",
       "<span class=\"ghost\">|</span>\n",
       "<span>\n",
       "<a href=\"/name/nm2613148/\">Jeff Wilson</a> </span>\n",
       "</div>"
      ]
     },
     "execution_count": 17,
     "metadata": {},
     "output_type": "execute_result"
    }
   ],
   "source": [
    "people[0]"
   ]
  },
  {
   "cell_type": "code",
   "execution_count": 18,
   "metadata": {},
   "outputs": [
    {
     "data": {
      "text/plain": [
       "2"
      ]
     },
     "execution_count": 18,
     "metadata": {},
     "output_type": "execute_result"
    }
   ],
   "source": [
    "p1=people[0].findAll('a')\n",
    "len(p1)"
   ]
  },
  {
   "cell_type": "code",
   "execution_count": 19,
   "metadata": {},
   "outputs": [],
   "source": [
    "d=0\n",
    "director=''\n",
    "while d<len(p1):\n",
    "    director+=str(p1[d].text.strip())\n",
    "    if d==len(p1):\n",
    "        break\n",
    "    d+=1"
   ]
  },
  {
   "cell_type": "code",
   "execution_count": 20,
   "metadata": {},
   "outputs": [
    {
     "data": {
      "text/plain": [
       "'Alastair FothergillJeff Wilson'"
      ]
     },
     "execution_count": 20,
     "metadata": {},
     "output_type": "execute_result"
    }
   ],
   "source": [
    "director"
   ]
  },
  {
   "cell_type": "markdown",
   "metadata": {},
   "source": [
    "## stars"
   ]
  },
  {
   "cell_type": "code",
   "execution_count": 21,
   "metadata": {},
   "outputs": [
    {
     "data": {
      "text/plain": [
       "<div class=\"txt-block\">\n",
       "<h5 class=\"inline\">Stars:</h5>\n",
       "<a href=\"/name/nm1159180/\">Ed Helms</a>\n",
       "</div>"
      ]
     },
     "execution_count": 21,
     "metadata": {},
     "output_type": "execute_result"
    }
   ],
   "source": [
    "people[1]"
   ]
  },
  {
   "cell_type": "code",
   "execution_count": 22,
   "metadata": {},
   "outputs": [
    {
     "data": {
      "text/plain": [
       "1"
      ]
     },
     "execution_count": 22,
     "metadata": {},
     "output_type": "execute_result"
    }
   ],
   "source": [
    "p2=people[1].findAll('a')\n",
    "len(p2)"
   ]
  },
  {
   "cell_type": "code",
   "execution_count": 23,
   "metadata": {},
   "outputs": [],
   "source": [
    "d=0\n",
    "stars=''\n",
    "while d<len(p2):\n",
    "    stars+=str(p2[d].text.strip())\n",
    "    stars+=str('|')\n",
    "    if d==len(p2):\n",
    "        break\n",
    "    d+=1"
   ]
  },
  {
   "cell_type": "code",
   "execution_count": 24,
   "metadata": {},
   "outputs": [
    {
     "data": {
      "text/plain": [
       "'Ed Helms|'"
      ]
     },
     "execution_count": 24,
     "metadata": {},
     "output_type": "execute_result"
    }
   ],
   "source": [
    "stars"
   ]
  },
  {
   "cell_type": "markdown",
   "metadata": {},
   "source": [
    "## open a csv "
   ]
  },
  {
   "cell_type": "code",
   "execution_count": 25,
   "metadata": {},
   "outputs": [],
   "source": [
    "filename = \"new_movie.csv\"\n",
    "f = open(filename,\"w\")"
   ]
  },
  {
   "cell_type": "markdown",
   "metadata": {},
   "source": [
    "## write heading"
   ]
  },
  {
   "cell_type": "code",
   "execution_count": 26,
   "metadata": {},
   "outputs": [
    {
     "data": {
      "text/plain": [
       "43"
      ]
     },
     "execution_count": 26,
     "metadata": {},
     "output_type": "execute_result"
    }
   ],
   "source": [
    "headers = \"title,runtime,genre,director,stars,outline\\n\"\n",
    "f.write(headers)"
   ]
  },
  {
   "cell_type": "markdown",
   "metadata": {},
   "source": [
    "## write content"
   ]
  },
  {
   "cell_type": "markdown",
   "metadata": {},
   "source": [
    "the website divide all the movie in even & odd order for design purpose, so there are 2 'for' loop down here "
   ]
  },
  {
   "cell_type": "code",
   "execution_count": 27,
   "metadata": {},
   "outputs": [],
   "source": [
    "containers = page_soup.body.findAll(\"div\",{\"class\":\"list_item even\"})\n",
    "for container in containers: #for all the element in containers\n",
    "    title = container.tbody.h4.a.text.strip() #title\n",
    "    runtime = container.tbody.p.time.text #runtime\n",
    "    genre1 = container.tbody.p.findAll(\"span\") #genre\n",
    "    #movies usually have multiple genres, wirte all the genre in a string\n",
    "    l1=len(genre1)\n",
    "    i=0\n",
    "    genre=''\n",
    "    while i<l1:\n",
    "        genre+=str(genre1[i].text.strip())\n",
    "        if i==l1:\n",
    "            break\n",
    "        i+=1\n",
    "    \n",
    "    outline = container.tbody.find('div',{\"class\":\"outline\"}).text.strip() #outline\n",
    "    #movie usually have multiple directors & actors, write all directors & actors in 2 strings\n",
    "    people = container.tbody.findAll('div',{'class':'txt-block'})\n",
    "    \n",
    "    p1=people[0].findAll('a')\n",
    "    d=0\n",
    "    director=''\n",
    "    while d<len(p1):\n",
    "        director+=str(p1[d].text.strip())\n",
    "        if d==len(p1):\n",
    "            break\n",
    "        if d!=len(p1)-1:\n",
    "            director+=str('|')\n",
    "        d+=1\n",
    "    \n",
    "    p2=people[1].findAll('a')\n",
    "    d=0\n",
    "    stars=''\n",
    "    while d<len(p2):\n",
    "        stars+=str(p2[d].text.strip())\n",
    "        if d==len(p2):\n",
    "            break\n",
    "        if d!=len(p2)-1:\n",
    "            stars+=str('|')\n",
    "        d+=1\n",
    "    #write the result in csv file\n",
    "    f.write(title.replace(\",\",\" \") + \",\" + runtime + \",\" + genre + \",\" + director + \",\" + stars + \",\" + outline.replace(\",\",\";\") + \"\\n\")\n",
    "    "
   ]
  },
  {
   "cell_type": "code",
   "execution_count": 28,
   "metadata": {},
   "outputs": [],
   "source": [
    "#the website divide all the movie in even & odd order for design purpose, so there are 2 'for' loop down here\n",
    "#this one is similar to the above one\n",
    "containers = page_soup.body.findAll(\"div\",{\"class\":\"list_item odd\"})\n",
    "for container in containers:\n",
    "    title = container.tbody.h4.a.text.strip()\n",
    "    runtime = container.tbody.p.time.text\n",
    "    genre1 = container.tbody.p.findAll(\"span\")\n",
    "    \n",
    "    l1=len(genre1)\n",
    "    i=0\n",
    "    genre=''\n",
    "    while i<l1:\n",
    "        genre+=str(genre1[i].text.strip())\n",
    "        if i==l1:\n",
    "            break\n",
    "        i+=1\n",
    "    \n",
    "    outline = container.tbody.find('div',{\"class\":\"outline\"}).text.strip()\n",
    "    \n",
    "    people = container.tbody.findAll('div',{'class':'txt-block'})\n",
    "    \n",
    "    p1=people[0].findAll('a')\n",
    "    d=0\n",
    "    director=''\n",
    "    while d<len(p1):\n",
    "        director+=str(p1[d].text.strip())\n",
    "        if d==len(p1):\n",
    "            break\n",
    "        if d!=len(p1)-1:\n",
    "            director+=str('|')\n",
    "        d+=1\n",
    "    p2=people[1].findAll('a')\n",
    "    d=0\n",
    "    stars=''\n",
    "    while d<len(p2):\n",
    "        stars+=str(p2[d].text.strip())\n",
    "        if d==len(p2):\n",
    "            break\n",
    "        if d!=len(p2)-1:\n",
    "            stars+=str('|')\n",
    "        d+=1\n",
    "        \n",
    "    \n",
    "    f.write(title.replace(\",\",\" \") + \",\" + runtime + \",\" + genre + \",\" + director + \",\" + stars + \",\" + outline.replace(\",\",\";\") + \"\\n\")\n",
    " "
   ]
  },
  {
   "cell_type": "markdown",
   "metadata": {},
   "source": [
    "## close file"
   ]
  },
  {
   "cell_type": "code",
   "execution_count": 29,
   "metadata": {},
   "outputs": [],
   "source": [
    "f.close()"
   ]
  },
  {
   "cell_type": "markdown",
   "metadata": {},
   "source": [
    "# Normalization"
   ]
  },
  {
   "cell_type": "code",
   "execution_count": 30,
   "metadata": {},
   "outputs": [],
   "source": [
    "import pandas as pd"
   ]
  },
  {
   "cell_type": "code",
   "execution_count": 31,
   "metadata": {},
   "outputs": [],
   "source": [
    "df = pd.read_csv('new_movie.csv', header=0,low_memory=False)"
   ]
  },
  {
   "cell_type": "code",
   "execution_count": 32,
   "metadata": {},
   "outputs": [
    {
     "data": {
      "text/html": [
       "<div>\n",
       "<style scoped>\n",
       "    .dataframe tbody tr th:only-of-type {\n",
       "        vertical-align: middle;\n",
       "    }\n",
       "\n",
       "    .dataframe tbody tr th {\n",
       "        vertical-align: top;\n",
       "    }\n",
       "\n",
       "    .dataframe thead th {\n",
       "        text-align: right;\n",
       "    }\n",
       "</style>\n",
       "<table border=\"1\" class=\"dataframe\">\n",
       "  <thead>\n",
       "    <tr style=\"text-align: right;\">\n",
       "      <th></th>\n",
       "      <th>title</th>\n",
       "      <th>runtime</th>\n",
       "      <th>genre</th>\n",
       "      <th>director</th>\n",
       "      <th>stars</th>\n",
       "      <th>outline</th>\n",
       "    </tr>\n",
       "  </thead>\n",
       "  <tbody>\n",
       "    <tr>\n",
       "      <th>0</th>\n",
       "      <td>Penguins (2019)</td>\n",
       "      <td>76 min</td>\n",
       "      <td>Documentary</td>\n",
       "      <td>Alastair Fothergill|Jeff Wilson</td>\n",
       "      <td>Ed Helms</td>\n",
       "      <td>The story of Steve; an Adélie penguin; on a qu...</td>\n",
       "    </tr>\n",
       "    <tr>\n",
       "      <th>1</th>\n",
       "      <td>Breakthrough (2019)</td>\n",
       "      <td>116 min</td>\n",
       "      <td>Biography|Drama</td>\n",
       "      <td>Roxann Dawson</td>\n",
       "      <td>Chrissy Metz|Topher Grace|Josh Lucas|Marcel Ruiz</td>\n",
       "      <td>When her 14-year-old son drowns in a lake; a f...</td>\n",
       "    </tr>\n",
       "    <tr>\n",
       "      <th>2</th>\n",
       "      <td>Hail Satan? (2019)</td>\n",
       "      <td>95 min</td>\n",
       "      <td>Documentary</td>\n",
       "      <td>Penny Lane</td>\n",
       "      <td>Jex Blackmore|Nicholas Crowe|Lucien Greaves|Ma...</td>\n",
       "      <td>A look at the quick rise and influence of the ...</td>\n",
       "    </tr>\n",
       "    <tr>\n",
       "      <th>3</th>\n",
       "      <td>Little Woods (2018)</td>\n",
       "      <td>105 min</td>\n",
       "      <td>Crime|Drama|Western</td>\n",
       "      <td>Nia DaCosta</td>\n",
       "      <td>Lily James|Tessa Thompson|Luke Kirby|Lance Red...</td>\n",
       "      <td>A modern Western about two sisters who work ou...</td>\n",
       "    </tr>\n",
       "    <tr>\n",
       "      <th>4</th>\n",
       "      <td>High on the Hog (2017)</td>\n",
       "      <td>85 min</td>\n",
       "      <td>Action|Crime|Drama|Thriller</td>\n",
       "      <td>Tony Wash</td>\n",
       "      <td>Sid Haig|Joe Estevez|Robert Z'Dar|Fiona Domenica</td>\n",
       "      <td>With a potent strain of pot sweeping the City;...</td>\n",
       "    </tr>\n",
       "  </tbody>\n",
       "</table>\n",
       "</div>"
      ],
      "text/plain": [
       "                    title  runtime                        genre  \\\n",
       "0         Penguins (2019)   76 min                  Documentary   \n",
       "1     Breakthrough (2019)  116 min              Biography|Drama   \n",
       "2      Hail Satan? (2019)   95 min                  Documentary   \n",
       "3     Little Woods (2018)  105 min          Crime|Drama|Western   \n",
       "4  High on the Hog (2017)   85 min  Action|Crime|Drama|Thriller   \n",
       "\n",
       "                          director  \\\n",
       "0  Alastair Fothergill|Jeff Wilson   \n",
       "1                    Roxann Dawson   \n",
       "2                       Penny Lane   \n",
       "3                      Nia DaCosta   \n",
       "4                        Tony Wash   \n",
       "\n",
       "                                               stars  \\\n",
       "0                                           Ed Helms   \n",
       "1   Chrissy Metz|Topher Grace|Josh Lucas|Marcel Ruiz   \n",
       "2  Jex Blackmore|Nicholas Crowe|Lucien Greaves|Ma...   \n",
       "3  Lily James|Tessa Thompson|Luke Kirby|Lance Red...   \n",
       "4   Sid Haig|Joe Estevez|Robert Z'Dar|Fiona Domenica   \n",
       "\n",
       "                                             outline  \n",
       "0  The story of Steve; an Adélie penguin; on a qu...  \n",
       "1  When her 14-year-old son drowns in a lake; a f...  \n",
       "2  A look at the quick rise and influence of the ...  \n",
       "3  A modern Western about two sisters who work ou...  \n",
       "4  With a potent strain of pot sweeping the City;...  "
      ]
     },
     "execution_count": 32,
     "metadata": {},
     "output_type": "execute_result"
    }
   ],
   "source": [
    "df.head(5)"
   ]
  },
  {
   "cell_type": "code",
   "execution_count": 33,
   "metadata": {},
   "outputs": [],
   "source": [
    "df[['title','year']] = df['title'].str.split('(',expand=True)"
   ]
  },
  {
   "cell_type": "code",
   "execution_count": 34,
   "metadata": {},
   "outputs": [],
   "source": [
    "df2 = df.drop('year',axis=1)"
   ]
  },
  {
   "cell_type": "code",
   "execution_count": 35,
   "metadata": {},
   "outputs": [],
   "source": [
    "df2['new_movie_id']= df2.reset_index(drop=True).index"
   ]
  },
  {
   "cell_type": "code",
   "execution_count": 36,
   "metadata": {},
   "outputs": [
    {
     "data": {
      "text/html": [
       "<div>\n",
       "<style scoped>\n",
       "    .dataframe tbody tr th:only-of-type {\n",
       "        vertical-align: middle;\n",
       "    }\n",
       "\n",
       "    .dataframe tbody tr th {\n",
       "        vertical-align: top;\n",
       "    }\n",
       "\n",
       "    .dataframe thead th {\n",
       "        text-align: right;\n",
       "    }\n",
       "</style>\n",
       "<table border=\"1\" class=\"dataframe\">\n",
       "  <thead>\n",
       "    <tr style=\"text-align: right;\">\n",
       "      <th></th>\n",
       "      <th>new_movie_id</th>\n",
       "      <th>title</th>\n",
       "      <th>runtime</th>\n",
       "      <th>genre</th>\n",
       "      <th>director</th>\n",
       "      <th>stars</th>\n",
       "      <th>outline</th>\n",
       "    </tr>\n",
       "  </thead>\n",
       "  <tbody>\n",
       "    <tr>\n",
       "      <th>0</th>\n",
       "      <td>0</td>\n",
       "      <td>Penguins</td>\n",
       "      <td>76 min</td>\n",
       "      <td>Documentary</td>\n",
       "      <td>Alastair Fothergill|Jeff Wilson</td>\n",
       "      <td>Ed Helms</td>\n",
       "      <td>The story of Steve; an Adélie penguin; on a qu...</td>\n",
       "    </tr>\n",
       "    <tr>\n",
       "      <th>1</th>\n",
       "      <td>1</td>\n",
       "      <td>Breakthrough</td>\n",
       "      <td>116 min</td>\n",
       "      <td>Biography|Drama</td>\n",
       "      <td>Roxann Dawson</td>\n",
       "      <td>Chrissy Metz|Topher Grace|Josh Lucas|Marcel Ruiz</td>\n",
       "      <td>When her 14-year-old son drowns in a lake; a f...</td>\n",
       "    </tr>\n",
       "    <tr>\n",
       "      <th>2</th>\n",
       "      <td>2</td>\n",
       "      <td>Hail Satan?</td>\n",
       "      <td>95 min</td>\n",
       "      <td>Documentary</td>\n",
       "      <td>Penny Lane</td>\n",
       "      <td>Jex Blackmore|Nicholas Crowe|Lucien Greaves|Ma...</td>\n",
       "      <td>A look at the quick rise and influence of the ...</td>\n",
       "    </tr>\n",
       "    <tr>\n",
       "      <th>3</th>\n",
       "      <td>3</td>\n",
       "      <td>Little Woods</td>\n",
       "      <td>105 min</td>\n",
       "      <td>Crime|Drama|Western</td>\n",
       "      <td>Nia DaCosta</td>\n",
       "      <td>Lily James|Tessa Thompson|Luke Kirby|Lance Red...</td>\n",
       "      <td>A modern Western about two sisters who work ou...</td>\n",
       "    </tr>\n",
       "    <tr>\n",
       "      <th>4</th>\n",
       "      <td>4</td>\n",
       "      <td>High on the Hog</td>\n",
       "      <td>85 min</td>\n",
       "      <td>Action|Crime|Drama|Thriller</td>\n",
       "      <td>Tony Wash</td>\n",
       "      <td>Sid Haig|Joe Estevez|Robert Z'Dar|Fiona Domenica</td>\n",
       "      <td>With a potent strain of pot sweeping the City;...</td>\n",
       "    </tr>\n",
       "  </tbody>\n",
       "</table>\n",
       "</div>"
      ],
      "text/plain": [
       "   new_movie_id             title  runtime                        genre  \\\n",
       "0             0         Penguins    76 min                  Documentary   \n",
       "1             1     Breakthrough   116 min              Biography|Drama   \n",
       "2             2      Hail Satan?    95 min                  Documentary   \n",
       "3             3     Little Woods   105 min          Crime|Drama|Western   \n",
       "4             4  High on the Hog    85 min  Action|Crime|Drama|Thriller   \n",
       "\n",
       "                          director  \\\n",
       "0  Alastair Fothergill|Jeff Wilson   \n",
       "1                    Roxann Dawson   \n",
       "2                       Penny Lane   \n",
       "3                      Nia DaCosta   \n",
       "4                        Tony Wash   \n",
       "\n",
       "                                               stars  \\\n",
       "0                                           Ed Helms   \n",
       "1   Chrissy Metz|Topher Grace|Josh Lucas|Marcel Ruiz   \n",
       "2  Jex Blackmore|Nicholas Crowe|Lucien Greaves|Ma...   \n",
       "3  Lily James|Tessa Thompson|Luke Kirby|Lance Red...   \n",
       "4   Sid Haig|Joe Estevez|Robert Z'Dar|Fiona Domenica   \n",
       "\n",
       "                                             outline  \n",
       "0  The story of Steve; an Adélie penguin; on a qu...  \n",
       "1  When her 14-year-old son drowns in a lake; a f...  \n",
       "2  A look at the quick rise and influence of the ...  \n",
       "3  A modern Western about two sisters who work ou...  \n",
       "4  With a potent strain of pot sweeping the City;...  "
      ]
     },
     "execution_count": 36,
     "metadata": {},
     "output_type": "execute_result"
    }
   ],
   "source": [
    "df3 = df2[['new_movie_id','title', 'runtime', 'genre', 'director','stars','outline']]\n",
    "df3.head(5)"
   ]
  },
  {
   "cell_type": "code",
   "execution_count": 37,
   "metadata": {},
   "outputs": [],
   "source": [
    "df3.to_csv('new_movie.csv', sep=',',index=False)"
   ]
  },
  {
   "cell_type": "code",
   "execution_count": null,
   "metadata": {},
   "outputs": [],
   "source": []
  },
  {
   "cell_type": "code",
   "execution_count": null,
   "metadata": {},
   "outputs": [],
   "source": []
  },
  {
   "cell_type": "code",
   "execution_count": null,
   "metadata": {},
   "outputs": [],
   "source": []
  },
  {
   "cell_type": "markdown",
   "metadata": {},
   "source": [
    "# Ins newest comment"
   ]
  },
  {
   "cell_type": "code",
   "execution_count": 38,
   "metadata": {},
   "outputs": [],
   "source": [
    "import instaloader\n",
    "import pandas as pd\n",
    "from datetime import datetime\n",
    "from itertools import dropwhile, takewhile\n",
    "\n"
   ]
  },
  {
   "cell_type": "code",
   "execution_count": 39,
   "metadata": {},
   "outputs": [],
   "source": [
    "L = instaloader.Instaloader()\n"
   ]
  },
  {
   "cell_type": "code",
   "execution_count": 47,
   "metadata": {},
   "outputs": [
    {
     "data": {
      "text/plain": [
       "['Penguins',\n",
       " 'Breakthrough',\n",
       " 'HailSatan',\n",
       " 'LittleWoods',\n",
       " 'HighontheHog',\n",
       " 'PetSematary',\n",
       " 'Us',\n",
       " 'TheBestofEnemies',\n",
       " 'Unplanned',\n",
       " 'HowtoTrainYourDragonTheHiddenWorld',\n",
       " 'TheCurseofLaLlorona',\n",
       " 'Kalank',\n",
       " 'UndertheSilverLake',\n",
       " 'Rafiki',\n",
       " 'FastColor',\n",
       " 'Stuck',\n",
       " 'Shazam',\n",
       " 'Dumbo',\n",
       " 'CaptainMarvel',\n",
       " 'FiveFeetApart',\n",
       " 'WonderPark']"
      ]
     },
     "execution_count": 47,
     "metadata": {},
     "output_type": "execute_result"
    }
   ],
   "source": [
    "#twitter tags can not accept any space or symbols, delete all space or common used symbols in the movie title\n",
    "list1 = df['title'].tolist()\n",
    "list2 = [x.replace(' ','') for x in list1] # replace space with nothing\n",
    "list3 = [x.replace(':','') for x in list2]\n",
    "list4 = [x.replace('!','') for x in list3]\n",
    "movietitles = [x.replace('?','') for x in list4]\n",
    "movietitles"
   ]
  },
  {
   "cell_type": "code",
   "execution_count": 48,
   "metadata": {},
   "outputs": [],
   "source": [
    "post_time = [] #set up all the column list\n",
    "post_context = []\n",
    "post_like = []\n",
    "post_comments = []\n",
    "post_hashtags = []\n",
    "\n",
    "for movietitle in movietitles:\n",
    "    posts = L.get_hashtag_posts(movietitle)\n",
    "    i=0\n",
    "    for post in posts:\n",
    "        post_time.append(post.date) #use api to put every info I want in different list\n",
    "        post_context.append(post.caption)\n",
    "        post_like.append(post.likes)\n",
    "        post_comments.append(post.comments)\n",
    "        post_hashtags.append(post.caption_hashtags)\n",
    "        i+=1\n",
    "        if i==5: #for every movie title, only get 5 result, because the API is very slow\n",
    "            break\n"
   ]
  },
  {
   "cell_type": "code",
   "execution_count": 49,
   "metadata": {},
   "outputs": [],
   "source": [
    "d={'time':post_time,'context':post_context,'like_count':post_like,'comments_count':post_comments,'hashtags':post_hashtags}\n",
    "#combine the list"
   ]
  },
  {
   "cell_type": "code",
   "execution_count": 50,
   "metadata": {},
   "outputs": [],
   "source": [
    "import pandas as pd"
   ]
  },
  {
   "cell_type": "code",
   "execution_count": 55,
   "metadata": {},
   "outputs": [],
   "source": [
    "df = pd.DataFrame(d) #change into dataframe"
   ]
  },
  {
   "cell_type": "code",
   "execution_count": 56,
   "metadata": {},
   "outputs": [
    {
     "data": {
      "text/html": [
       "<div>\n",
       "<style scoped>\n",
       "    .dataframe tbody tr th:only-of-type {\n",
       "        vertical-align: middle;\n",
       "    }\n",
       "\n",
       "    .dataframe tbody tr th {\n",
       "        vertical-align: top;\n",
       "    }\n",
       "\n",
       "    .dataframe thead th {\n",
       "        text-align: right;\n",
       "    }\n",
       "</style>\n",
       "<table border=\"1\" class=\"dataframe\">\n",
       "  <thead>\n",
       "    <tr style=\"text-align: right;\">\n",
       "      <th></th>\n",
       "      <th>time</th>\n",
       "      <th>context</th>\n",
       "      <th>like_count</th>\n",
       "      <th>comments_count</th>\n",
       "      <th>hashtags</th>\n",
       "    </tr>\n",
       "  </thead>\n",
       "  <tbody>\n",
       "    <tr>\n",
       "      <th>0</th>\n",
       "      <td>2019-04-17 23:10:46</td>\n",
       "      <td>Seeing DisneyNature's Penguins in IMAX! Always...</td>\n",
       "      <td>10</td>\n",
       "      <td>0</td>\n",
       "      <td>[penguins, disneynature, documentary, nature, ...</td>\n",
       "    </tr>\n",
       "    <tr>\n",
       "      <th>1</th>\n",
       "      <td>2019-04-17 23:10:12</td>\n",
       "      <td>Where’s your #tropical #oasis ?? #comment #tro...</td>\n",
       "      <td>30</td>\n",
       "      <td>0</td>\n",
       "      <td>[tropical, oasis, comment, tropicalpenguinclot...</td>\n",
       "    </tr>\n",
       "    <tr>\n",
       "      <th>2</th>\n",
       "      <td>2019-04-17 23:07:16</td>\n",
       "      <td>RIP Tampa and Pittsburgh.\\n.\\n.\\n.\\nLots of ta...</td>\n",
       "      <td>5</td>\n",
       "      <td>0</td>\n",
       "      <td>[nhl, nhlmemes, nhlmeme, hockey, hockeymemes, ...</td>\n",
       "    </tr>\n",
       "    <tr>\n",
       "      <th>3</th>\n",
       "      <td>2019-04-17 23:00:57</td>\n",
       "      <td>Catch you on the flip side! Follow Steve as he...</td>\n",
       "      <td>11</td>\n",
       "      <td>0</td>\n",
       "      <td>[disneynaturepenguins, penguins, penguin, natu...</td>\n",
       "    </tr>\n",
       "    <tr>\n",
       "      <th>4</th>\n",
       "      <td>2019-04-17 22:59:52</td>\n",
       "      <td>#penguin #penguins #penguinsofantarctica #peng...</td>\n",
       "      <td>7</td>\n",
       "      <td>0</td>\n",
       "      <td>[penguin, penguins, penguinsofantarctica, peng...</td>\n",
       "    </tr>\n",
       "  </tbody>\n",
       "</table>\n",
       "</div>"
      ],
      "text/plain": [
       "                 time                                            context  \\\n",
       "0 2019-04-17 23:10:46  Seeing DisneyNature's Penguins in IMAX! Always...   \n",
       "1 2019-04-17 23:10:12  Where’s your #tropical #oasis ?? #comment #tro...   \n",
       "2 2019-04-17 23:07:16  RIP Tampa and Pittsburgh.\\n.\\n.\\n.\\nLots of ta...   \n",
       "3 2019-04-17 23:00:57  Catch you on the flip side! Follow Steve as he...   \n",
       "4 2019-04-17 22:59:52  #penguin #penguins #penguinsofantarctica #peng...   \n",
       "\n",
       "   like_count  comments_count  \\\n",
       "0          10               0   \n",
       "1          30               0   \n",
       "2           5               0   \n",
       "3          11               0   \n",
       "4           7               0   \n",
       "\n",
       "                                            hashtags  \n",
       "0  [penguins, disneynature, documentary, nature, ...  \n",
       "1  [tropical, oasis, comment, tropicalpenguinclot...  \n",
       "2  [nhl, nhlmemes, nhlmeme, hockey, hockeymemes, ...  \n",
       "3  [disneynaturepenguins, penguins, penguin, natu...  \n",
       "4  [penguin, penguins, penguinsofantarctica, peng...  "
      ]
     },
     "execution_count": 56,
     "metadata": {},
     "output_type": "execute_result"
    }
   ],
   "source": [
    "df.head(5)"
   ]
  },
  {
   "cell_type": "code",
   "execution_count": 58,
   "metadata": {},
   "outputs": [],
   "source": [
    "df.to_csv('raw_ins_new_comment.csv', sep=',',index=False) #outport dataframe"
   ]
  },
  {
   "cell_type": "code",
   "execution_count": null,
   "metadata": {},
   "outputs": [],
   "source": [
    "\n"
   ]
  },
  {
   "cell_type": "code",
   "execution_count": null,
   "metadata": {},
   "outputs": [],
   "source": []
  }
 ],
 "metadata": {
  "kernelspec": {
   "display_name": "Python 3",
   "language": "python",
   "name": "python3"
  },
  "language_info": {
   "codemirror_mode": {
    "name": "ipython",
    "version": 3
   },
   "file_extension": ".py",
   "mimetype": "text/x-python",
   "name": "python",
   "nbconvert_exporter": "python",
   "pygments_lexer": "ipython3",
   "version": "3.7.1"
  }
 },
 "nbformat": 4,
 "nbformat_minor": 2
}
