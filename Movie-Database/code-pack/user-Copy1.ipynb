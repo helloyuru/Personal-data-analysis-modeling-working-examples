{
 "cells": [
  {
   "cell_type": "code",
   "execution_count": 1,
   "metadata": {},
   "outputs": [],
   "source": [
    "import tweepy\n",
    "import time\n",
    "import datetime"
   ]
  },
  {
   "cell_type": "code",
   "execution_count": null,
   "metadata": {},
   "outputs": [],
   "source": []
  },
  {
   "cell_type": "code",
   "execution_count": 2,
   "metadata": {},
   "outputs": [],
   "source": [
    "consumer_key='uKZylT3WsDp6nnDUy4QjR9LQA'\n",
    "consumer_secret='9rJT6UiZGni4JCSBkXOEsbgkNhqiufMj6eACcNyjGapNA0TdH8'\n",
    "access_token='1098355138165698560-fHvSVTMajUk8IzPhhQs7Ee0LrveGBe'\n",
    "access_token_secret='DLqslWOlsurmFTX3uYL6f3Sm0DBjaI8ByzcP4KwyBYCmM'\n",
    "            \n",
    "auth = tweepy.OAuthHandler(consumer_key, consumer_secret)\n",
    "auth.set_access_token(access_token, access_token_secret)\n",
    "\n",
    "api = tweepy.API(auth)"
   ]
  },
  {
   "cell_type": "code",
   "execution_count": 3,
   "metadata": {},
   "outputs": [
    {
     "data": {
      "text/plain": [
       "{'id': 1010650729487523842,\n",
       " 'id_str': '1010650729487523842',\n",
       " 'name': 'HiccupHaddockParallels',\n",
       " 'screen_name': 'isabel20068900',\n",
       " 'location': 'Berk',\n",
       " 'profile_location': None,\n",
       " 'description': '“I love you to and I want you to be free” “our world doesn’t deserve you.... yet” 💔',\n",
       " 'url': None,\n",
       " 'entities': {'description': {'urls': []}},\n",
       " 'protected': False,\n",
       " 'followers_count': 305,\n",
       " 'friends_count': 273,\n",
       " 'listed_count': 1,\n",
       " 'created_at': 'Sat Jun 23 22:28:05 +0000 2018',\n",
       " 'favourites_count': 9604,\n",
       " 'utc_offset': None,\n",
       " 'time_zone': None,\n",
       " 'geo_enabled': True,\n",
       " 'verified': False,\n",
       " 'statuses_count': 4298,\n",
       " 'lang': 'en',\n",
       " 'status': {'created_at': 'Fri Apr 26 16:44:57 +0000 2019',\n",
       "  'id': 1121817452978089989,\n",
       "  'id_str': '1121817452978089989',\n",
       "  'text': 'RT @ixtarque: eu vendo todo mundo feliz se arrumando e se preparando pra ir ver avengers endgame menos eu https://t.co/M50QGpi612',\n",
       "  'truncated': False,\n",
       "  'entities': {'hashtags': [],\n",
       "   'symbols': [],\n",
       "   'user_mentions': [{'screen_name': 'ixtarque',\n",
       "     'name': 'isa dora stark',\n",
       "     'id': 1007680532501680129,\n",
       "     'id_str': '1007680532501680129',\n",
       "     'indices': [3, 12]}],\n",
       "   'urls': [],\n",
       "   'media': [{'id': 1121216528081465344,\n",
       "     'id_str': '1121216528081465344',\n",
       "     'indices': [106, 129],\n",
       "     'media_url': 'http://pbs.twimg.com/media/D49cfeiXsAAoAtA.jpg',\n",
       "     'media_url_https': 'https://pbs.twimg.com/media/D49cfeiXsAAoAtA.jpg',\n",
       "     'url': 'https://t.co/M50QGpi612',\n",
       "     'display_url': 'pic.twitter.com/M50QGpi612',\n",
       "     'expanded_url': 'https://twitter.com/ixtarque/status/1121216533114626050/photo/1',\n",
       "     'type': 'photo',\n",
       "     'sizes': {'medium': {'w': 673, 'h': 448, 'resize': 'fit'},\n",
       "      'thumb': {'w': 150, 'h': 150, 'resize': 'crop'},\n",
       "      'small': {'w': 673, 'h': 448, 'resize': 'fit'},\n",
       "      'large': {'w': 673, 'h': 448, 'resize': 'fit'}},\n",
       "     'source_status_id': 1121216533114626050,\n",
       "     'source_status_id_str': '1121216533114626050',\n",
       "     'source_user_id': 1007680532501680129,\n",
       "     'source_user_id_str': '1007680532501680129'}]},\n",
       "  'extended_entities': {'media': [{'id': 1121216528081465344,\n",
       "     'id_str': '1121216528081465344',\n",
       "     'indices': [106, 129],\n",
       "     'media_url': 'http://pbs.twimg.com/media/D49cfeiXsAAoAtA.jpg',\n",
       "     'media_url_https': 'https://pbs.twimg.com/media/D49cfeiXsAAoAtA.jpg',\n",
       "     'url': 'https://t.co/M50QGpi612',\n",
       "     'display_url': 'pic.twitter.com/M50QGpi612',\n",
       "     'expanded_url': 'https://twitter.com/ixtarque/status/1121216533114626050/photo/1',\n",
       "     'type': 'photo',\n",
       "     'sizes': {'medium': {'w': 673, 'h': 448, 'resize': 'fit'},\n",
       "      'thumb': {'w': 150, 'h': 150, 'resize': 'crop'},\n",
       "      'small': {'w': 673, 'h': 448, 'resize': 'fit'},\n",
       "      'large': {'w': 673, 'h': 448, 'resize': 'fit'}},\n",
       "     'source_status_id': 1121216533114626050,\n",
       "     'source_status_id_str': '1121216533114626050',\n",
       "     'source_user_id': 1007680532501680129,\n",
       "     'source_user_id_str': '1007680532501680129'}]},\n",
       "  'source': '<a href=\"http://twitter.com/download/iphone\" rel=\"nofollow\">Twitter for iPhone</a>',\n",
       "  'in_reply_to_status_id': None,\n",
       "  'in_reply_to_status_id_str': None,\n",
       "  'in_reply_to_user_id': None,\n",
       "  'in_reply_to_user_id_str': None,\n",
       "  'in_reply_to_screen_name': None,\n",
       "  'geo': None,\n",
       "  'coordinates': None,\n",
       "  'place': None,\n",
       "  'contributors': None,\n",
       "  'retweeted_status': {'created_at': 'Thu Apr 25 00:57:07 +0000 2019',\n",
       "   'id': 1121216533114626050,\n",
       "   'id_str': '1121216533114626050',\n",
       "   'text': 'eu vendo todo mundo feliz se arrumando e se preparando pra ir ver avengers endgame menos eu https://t.co/M50QGpi612',\n",
       "   'truncated': False,\n",
       "   'entities': {'hashtags': [],\n",
       "    'symbols': [],\n",
       "    'user_mentions': [],\n",
       "    'urls': [],\n",
       "    'media': [{'id': 1121216528081465344,\n",
       "      'id_str': '1121216528081465344',\n",
       "      'indices': [92, 115],\n",
       "      'media_url': 'http://pbs.twimg.com/media/D49cfeiXsAAoAtA.jpg',\n",
       "      'media_url_https': 'https://pbs.twimg.com/media/D49cfeiXsAAoAtA.jpg',\n",
       "      'url': 'https://t.co/M50QGpi612',\n",
       "      'display_url': 'pic.twitter.com/M50QGpi612',\n",
       "      'expanded_url': 'https://twitter.com/ixtarque/status/1121216533114626050/photo/1',\n",
       "      'type': 'photo',\n",
       "      'sizes': {'medium': {'w': 673, 'h': 448, 'resize': 'fit'},\n",
       "       'thumb': {'w': 150, 'h': 150, 'resize': 'crop'},\n",
       "       'small': {'w': 673, 'h': 448, 'resize': 'fit'},\n",
       "       'large': {'w': 673, 'h': 448, 'resize': 'fit'}}}]},\n",
       "   'extended_entities': {'media': [{'id': 1121216528081465344,\n",
       "      'id_str': '1121216528081465344',\n",
       "      'indices': [92, 115],\n",
       "      'media_url': 'http://pbs.twimg.com/media/D49cfeiXsAAoAtA.jpg',\n",
       "      'media_url_https': 'https://pbs.twimg.com/media/D49cfeiXsAAoAtA.jpg',\n",
       "      'url': 'https://t.co/M50QGpi612',\n",
       "      'display_url': 'pic.twitter.com/M50QGpi612',\n",
       "      'expanded_url': 'https://twitter.com/ixtarque/status/1121216533114626050/photo/1',\n",
       "      'type': 'photo',\n",
       "      'sizes': {'medium': {'w': 673, 'h': 448, 'resize': 'fit'},\n",
       "       'thumb': {'w': 150, 'h': 150, 'resize': 'crop'},\n",
       "       'small': {'w': 673, 'h': 448, 'resize': 'fit'},\n",
       "       'large': {'w': 673, 'h': 448, 'resize': 'fit'}}}]},\n",
       "   'source': '<a href=\"http://twitter.com/download/android\" rel=\"nofollow\">Twitter for Android</a>',\n",
       "   'in_reply_to_status_id': None,\n",
       "   'in_reply_to_status_id_str': None,\n",
       "   'in_reply_to_user_id': None,\n",
       "   'in_reply_to_user_id_str': None,\n",
       "   'in_reply_to_screen_name': None,\n",
       "   'geo': None,\n",
       "   'coordinates': None,\n",
       "   'place': None,\n",
       "   'contributors': None,\n",
       "   'is_quote_status': False,\n",
       "   'retweet_count': 3256,\n",
       "   'favorite_count': 5173,\n",
       "   'favorited': False,\n",
       "   'retweeted': False,\n",
       "   'possibly_sensitive': False,\n",
       "   'lang': 'pt'},\n",
       "  'is_quote_status': False,\n",
       "  'retweet_count': 3256,\n",
       "  'favorite_count': 0,\n",
       "  'favorited': False,\n",
       "  'retweeted': False,\n",
       "  'possibly_sensitive': True,\n",
       "  'lang': 'pt'},\n",
       " 'contributors_enabled': False,\n",
       " 'is_translator': False,\n",
       " 'is_translation_enabled': False,\n",
       " 'profile_background_color': 'F5F8FA',\n",
       " 'profile_background_image_url': None,\n",
       " 'profile_background_image_url_https': None,\n",
       " 'profile_background_tile': False,\n",
       " 'profile_image_url': 'http://pbs.twimg.com/profile_images/1108871253098668033/WfuFWOA-_normal.jpg',\n",
       " 'profile_image_url_https': 'https://pbs.twimg.com/profile_images/1108871253098668033/WfuFWOA-_normal.jpg',\n",
       " 'profile_banner_url': 'https://pbs.twimg.com/profile_banners/1010650729487523842/1555960042',\n",
       " 'profile_link_color': '1DA1F2',\n",
       " 'profile_sidebar_border_color': 'C0DEED',\n",
       " 'profile_sidebar_fill_color': 'DDEEF6',\n",
       " 'profile_text_color': '333333',\n",
       " 'profile_use_background_image': True,\n",
       " 'has_extended_profile': False,\n",
       " 'default_profile': True,\n",
       " 'default_profile_image': False,\n",
       " 'following': False,\n",
       " 'follow_request_sent': False,\n",
       " 'notifications': False,\n",
       " 'translator_type': 'none'}"
      ]
     },
     "execution_count": 3,
     "metadata": {},
     "output_type": "execute_result"
    }
   ],
   "source": [
    "user = api.get_user('isabel20068900')\n",
    "user._json"
   ]
  },
  {
   "cell_type": "code",
   "execution_count": 6,
   "metadata": {},
   "outputs": [],
   "source": [
    "ids = []\n",
    "i=0\n",
    "for page in tweepy.Cursor(api.followers, screen_name=\"isabel20068900\").pages():\n",
    "    ids.extend(page)\n",
    "    i+=1\n",
    "    if i == 1:\n",
    "        break"
   ]
  },
  {
   "cell_type": "code",
   "execution_count": 7,
   "metadata": {},
   "outputs": [
    {
     "data": {
      "text/plain": [
       "20"
      ]
     },
     "execution_count": 7,
     "metadata": {},
     "output_type": "execute_result"
    }
   ],
   "source": [
    "len(ids)"
   ]
  },
  {
   "cell_type": "code",
   "execution_count": 8,
   "metadata": {},
   "outputs": [
    {
     "data": {
      "text/plain": [
       "{'id': 1097679845784457216,\n",
       " 'id_str': '1097679845784457216',\n",
       " 'name': 'Itzel',\n",
       " 'screen_name': 'Itzel39039568',\n",
       " 'location': '',\n",
       " 'description': 'Hi',\n",
       " 'url': None,\n",
       " 'entities': {'description': {'urls': []}},\n",
       " 'protected': False,\n",
       " 'followers_count': 5,\n",
       " 'friends_count': 149,\n",
       " 'listed_count': 0,\n",
       " 'created_at': 'Tue Feb 19 02:10:43 +0000 2019',\n",
       " 'favourites_count': 649,\n",
       " 'utc_offset': None,\n",
       " 'time_zone': None,\n",
       " 'geo_enabled': False,\n",
       " 'verified': False,\n",
       " 'statuses_count': 14,\n",
       " 'lang': 'en',\n",
       " 'status': {'created_at': 'Wed Apr 24 20:09:28 +0000 2019',\n",
       "  'id': 1121144145098235905,\n",
       "  'id_str': '1121144145098235905',\n",
       "  'text': \"@HttydPolls I really don't care but still I only would watch if it us interesting with my siblings\",\n",
       "  'truncated': False,\n",
       "  'entities': {'hashtags': [],\n",
       "   'symbols': [],\n",
       "   'user_mentions': [{'screen_name': 'HttydPolls',\n",
       "     'name': 'Httyd Polls',\n",
       "     'id': 1062457267239436288,\n",
       "     'id_str': '1062457267239436288',\n",
       "     'indices': [0, 11]}],\n",
       "   'urls': []},\n",
       "  'source': '<a href=\"http://twitter.com/download/android\" rel=\"nofollow\">Twitter for Android</a>',\n",
       "  'in_reply_to_status_id': 1121074118789611520,\n",
       "  'in_reply_to_status_id_str': '1121074118789611520',\n",
       "  'in_reply_to_user_id': 1062457267239436288,\n",
       "  'in_reply_to_user_id_str': '1062457267239436288',\n",
       "  'in_reply_to_screen_name': 'HttydPolls',\n",
       "  'geo': None,\n",
       "  'coordinates': None,\n",
       "  'place': None,\n",
       "  'contributors': None,\n",
       "  'is_quote_status': False,\n",
       "  'retweet_count': 0,\n",
       "  'favorite_count': 2,\n",
       "  'favorited': False,\n",
       "  'retweeted': False,\n",
       "  'lang': 'en'},\n",
       " 'contributors_enabled': False,\n",
       " 'is_translator': False,\n",
       " 'is_translation_enabled': False,\n",
       " 'profile_background_color': 'F5F8FA',\n",
       " 'profile_background_image_url': None,\n",
       " 'profile_background_image_url_https': None,\n",
       " 'profile_background_tile': False,\n",
       " 'profile_image_url': 'http://pbs.twimg.com/profile_images/1119409117133668353/4UO9rvzv_normal.jpg',\n",
       " 'profile_image_url_https': 'https://pbs.twimg.com/profile_images/1119409117133668353/4UO9rvzv_normal.jpg',\n",
       " 'profile_link_color': '1DA1F2',\n",
       " 'profile_sidebar_border_color': 'C0DEED',\n",
       " 'profile_sidebar_fill_color': 'DDEEF6',\n",
       " 'profile_text_color': '333333',\n",
       " 'profile_use_background_image': True,\n",
       " 'has_extended_profile': False,\n",
       " 'default_profile': True,\n",
       " 'default_profile_image': False,\n",
       " 'following': False,\n",
       " 'live_following': False,\n",
       " 'follow_request_sent': False,\n",
       " 'notifications': False,\n",
       " 'muting': False,\n",
       " 'blocking': False,\n",
       " 'blocked_by': False,\n",
       " 'translator_type': 'none'}"
      ]
     },
     "execution_count": 8,
     "metadata": {},
     "output_type": "execute_result"
    }
   ],
   "source": [
    "ids[1]._json"
   ]
  },
  {
   "cell_type": "code",
   "execution_count": 9,
   "metadata": {},
   "outputs": [],
   "source": [
    "import json"
   ]
  },
  {
   "cell_type": "code",
   "execution_count": 10,
   "metadata": {},
   "outputs": [
    {
     "data": {
      "text/plain": [
       "'{\"id\": 1097679845784457216, \"id_str\": \"1097679845784457216\", \"name\": \"Itzel\", \"screen_name\": \"Itzel39039568\", \"location\": \"\", \"description\": \"Hi\", \"url\": null, \"entities\": {\"description\": {\"urls\": []}}, \"protected\": false, \"followers_count\": 5, \"friends_count\": 149, \"listed_count\": 0, \"created_at\": \"Tue Feb 19 02:10:43 +0000 2019\", \"favourites_count\": 649, \"utc_offset\": null, \"time_zone\": null, \"geo_enabled\": false, \"verified\": false, \"statuses_count\": 14, \"lang\": \"en\", \"status\": {\"created_at\": \"Wed Apr 24 20:09:28 +0000 2019\", \"id\": 1121144145098235905, \"id_str\": \"1121144145098235905\", \"text\": \"@HttydPolls I really don\\'t care but still I only would watch if it us interesting with my siblings\", \"truncated\": false, \"entities\": {\"hashtags\": [], \"symbols\": [], \"user_mentions\": [{\"screen_name\": \"HttydPolls\", \"name\": \"Httyd Polls\", \"id\": 1062457267239436288, \"id_str\": \"1062457267239436288\", \"indices\": [0, 11]}], \"urls\": []}, \"source\": \"<a href=\\\\\"http://twitter.com/download/android\\\\\" rel=\\\\\"nofollow\\\\\">Twitter for Android</a>\", \"in_reply_to_status_id\": 1121074118789611520, \"in_reply_to_status_id_str\": \"1121074118789611520\", \"in_reply_to_user_id\": 1062457267239436288, \"in_reply_to_user_id_str\": \"1062457267239436288\", \"in_reply_to_screen_name\": \"HttydPolls\", \"geo\": null, \"coordinates\": null, \"place\": null, \"contributors\": null, \"is_quote_status\": false, \"retweet_count\": 0, \"favorite_count\": 2, \"favorited\": false, \"retweeted\": false, \"lang\": \"en\"}, \"contributors_enabled\": false, \"is_translator\": false, \"is_translation_enabled\": false, \"profile_background_color\": \"F5F8FA\", \"profile_background_image_url\": null, \"profile_background_image_url_https\": null, \"profile_background_tile\": false, \"profile_image_url\": \"http://pbs.twimg.com/profile_images/1119409117133668353/4UO9rvzv_normal.jpg\", \"profile_image_url_https\": \"https://pbs.twimg.com/profile_images/1119409117133668353/4UO9rvzv_normal.jpg\", \"profile_link_color\": \"1DA1F2\", \"profile_sidebar_border_color\": \"C0DEED\", \"profile_sidebar_fill_color\": \"DDEEF6\", \"profile_text_color\": \"333333\", \"profile_use_background_image\": true, \"has_extended_profile\": false, \"default_profile\": true, \"default_profile_image\": false, \"following\": false, \"live_following\": false, \"follow_request_sent\": false, \"notifications\": false, \"muting\": false, \"blocking\": false, \"blocked_by\": false, \"translator_type\": \"none\"}'"
      ]
     },
     "execution_count": 10,
     "metadata": {},
     "output_type": "execute_result"
    }
   ],
   "source": [
    "json_str = json.dumps(ids[1]._json)\n",
    "json_str"
   ]
  },
  {
   "cell_type": "code",
   "execution_count": 11,
   "metadata": {},
   "outputs": [],
   "source": [
    "json_dict = json.loads(json_str)"
   ]
  },
  {
   "cell_type": "markdown",
   "metadata": {},
   "source": [
    "# get the follower's list"
   ]
  },
  {
   "cell_type": "code",
   "execution_count": 12,
   "metadata": {},
   "outputs": [],
   "source": [
    "containers=ids"
   ]
  },
  {
   "cell_type": "code",
   "execution_count": 13,
   "metadata": {},
   "outputs": [],
   "source": [
    "followerlist=[]\n",
    "for container in containers:\n",
    "    json_str = json.dumps(container._json)\n",
    "    json_dict = json.loads(json_str)\n",
    "    if json_dict['protected']==False:  #only get the user who is not locking his/her twitter\n",
    "        followerlist.append(json_dict['screen_name'])"
   ]
  },
  {
   "cell_type": "code",
   "execution_count": 14,
   "metadata": {},
   "outputs": [
    {
     "data": {
      "text/plain": [
       "['krystalemogotic',\n",
       " 'Itzel39039568',\n",
       " 'by_manju',\n",
       " 'Nickell63918741',\n",
       " 'SchytheaCrevis',\n",
       " 'NintendoBoy1710',\n",
       " 'rwdork',\n",
       " 'dinara_foxie',\n",
       " '2thlee3',\n",
       " 'HTTYD_sming',\n",
       " 'Mir_HTTYD',\n",
       " 'Ladybugfangirl2',\n",
       " 'moonunicornhaha',\n",
       " 'miraculousyeet',\n",
       " 'pinayllenial_',\n",
       " 'Superduper_Nat',\n",
       " 'IvanMurdock_']"
      ]
     },
     "execution_count": 14,
     "metadata": {},
     "output_type": "execute_result"
    }
   ],
   "source": [
    "followerlist"
   ]
  },
  {
   "cell_type": "code",
   "execution_count": 15,
   "metadata": {},
   "outputs": [],
   "source": [
    "usersets=followerlist[:20]\n",
    "#too much result will reach API free user resource limit"
   ]
  },
  {
   "cell_type": "code",
   "execution_count": 16,
   "metadata": {},
   "outputs": [
    {
     "data": {
      "text/plain": [
       "['krystalemogotic',\n",
       " 'Itzel39039568',\n",
       " 'by_manju',\n",
       " 'Nickell63918741',\n",
       " 'SchytheaCrevis',\n",
       " 'NintendoBoy1710',\n",
       " 'rwdork',\n",
       " 'dinara_foxie',\n",
       " '2thlee3',\n",
       " 'HTTYD_sming',\n",
       " 'Mir_HTTYD',\n",
       " 'Ladybugfangirl2',\n",
       " 'moonunicornhaha',\n",
       " 'miraculousyeet',\n",
       " 'pinayllenial_',\n",
       " 'Superduper_Nat',\n",
       " 'IvanMurdock_']"
      ]
     },
     "execution_count": 16,
     "metadata": {},
     "output_type": "execute_result"
    }
   ],
   "source": [
    "usersets"
   ]
  },
  {
   "cell_type": "code",
   "execution_count": 17,
   "metadata": {},
   "outputs": [],
   "source": [
    "tweetcount=[]\n",
    "for userset in usersets:\n",
    "    user = api.get_user(userset)\n",
    "    \n",
    "    tweets_24h_list = []\n",
    "    \n",
    "    def get_tweets(api, username):\n",
    "        page = 1\n",
    "        deadend = False\n",
    "        while not deadend:\n",
    "            tweets = api.user_timeline(userset, page = page)\n",
    "            for tweet in tweets:\n",
    "                if (datetime.datetime.now() - tweet.created_at).days < 1:\n",
    "                    tweets_24h_list.append(tweet.text)\n",
    "                else:\n",
    "                    deadend = True\n",
    "                    return\n",
    "            \n",
    "            if not deadend:\n",
    "                page+=1\n",
    "    \n",
    "    get_tweets(api, userset)\n",
    "    tweets_24h_num = len(tweets_24h_list)\n",
    "    tweetcount.append(tweets_24h_num)"
   ]
  },
  {
   "cell_type": "code",
   "execution_count": 18,
   "metadata": {},
   "outputs": [
    {
     "data": {
      "text/plain": [
       "[64, 0, 2, 0, 0, 105, 3, 4, 0, 0, 25, 0, 0, 20, 86, 1, 0]"
      ]
     },
     "execution_count": 18,
     "metadata": {},
     "output_type": "execute_result"
    }
   ],
   "source": [
    "tweetcount"
   ]
  },
  {
   "cell_type": "code",
   "execution_count": 19,
   "metadata": {},
   "outputs": [],
   "source": [
    "filename = \"user_data.csv\"\n",
    "f = open(filename,\"w\")\n",
    "\n",
    "headers = \"user_name,screen_name,followers_num,number_of_tweets_in_24,friends_count\\n\"\n",
    "f.write(headers)\n",
    "\n",
    "for userset in usersets:\n",
    "\n",
    "    user = api.get_user(userset)\n",
    "    \n",
    "    tweets_24h_list = []\n",
    "    \n",
    "    def get_tweets(api, username):\n",
    "        page = 1\n",
    "        deadend = False\n",
    "        while not deadend:\n",
    "            tweets = api.user_timeline(userset, page = page)\n",
    "            for tweet in tweets:\n",
    "                if (datetime.datetime.now() - tweet.created_at).days < 1:\n",
    "                    tweets_24h_list.append(tweet.text)\n",
    "                else:\n",
    "                    deadend = True\n",
    "                    return\n",
    "            \n",
    "            if not deadend:\n",
    "                page+=1\n",
    "\n",
    "    \n",
    "    get_tweets(api, userset)\n",
    "    tweets_24h_num = len(tweets_24h_list)\n",
    "    \n",
    "    new_tweets = api.get_user(userset)\n",
    "    json_tweet = new_tweets._json\n",
    "    json_str = json.dumps(new_tweets._json)\n",
    "    json_dict = json.loads(json_str)\n",
    "    screen_name = json_dict['screen_name']\n",
    "    user_name = json_dict['name']\n",
    "    followers_num_int = json_dict['followers_count']\n",
    "    followers_num = str(followers_num_int)\n",
    "    number_of_tweets_in_24_int=tweets_24h_num\n",
    "    number_of_tweets_in_24 = str(number_of_tweets_in_24_int)\n",
    "    friends_count_int = json_dict['friends_count']\n",
    "    friends_count = str(friends_count_int)  \n",
    "        \n",
    "    f.write(user_name + \",\" + screen_name + \",\" + followers_num + \",\" + number_of_tweets_in_24 + \",\" + friends_count + \"\\n\")\n",
    "    \n",
    "f.close()"
   ]
  },
  {
   "cell_type": "code",
   "execution_count": null,
   "metadata": {},
   "outputs": [],
   "source": []
  }
 ],
 "metadata": {
  "kernelspec": {
   "display_name": "Python 3",
   "language": "python",
   "name": "python3"
  },
  "language_info": {
   "codemirror_mode": {
    "name": "ipython",
    "version": 3
   },
   "file_extension": ".py",
   "mimetype": "text/x-python",
   "name": "python",
   "nbconvert_exporter": "python",
   "pygments_lexer": "ipython3",
   "version": "3.7.1"
  }
 },
 "nbformat": 4,
 "nbformat_minor": 2
}
